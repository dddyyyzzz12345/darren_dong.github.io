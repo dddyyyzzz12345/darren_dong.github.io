{
 "cells": [
  {
   "cell_type": "code",
   "execution_count": 1,
   "metadata": {},
   "outputs": [],
   "source": [
    "import pandas as pd\n",
    "import numpy as np\n",
    "import os"
   ]
  },
  {
   "cell_type": "code",
   "execution_count": 2,
   "metadata": {
    "scrolled": true
   },
   "outputs": [],
   "source": [
    "input_dir = os.getcwd()\n",
    "input_file= os.path.join(input_dir,'realpurchase.csv')\n",
    "df1 = pd.read_csv(input_file,encoding = \"ISO-8859-1\")"
   ]
  },
  {
   "cell_type": "markdown",
   "metadata": {},
   "source": [
    "# Real Purchase"
   ]
  },
  {
   "cell_type": "code",
   "execution_count": 3,
   "metadata": {
    "scrolled": true
   },
   "outputs": [
    {
     "data": {
      "text/html": [
       "<div>\n",
       "<style scoped>\n",
       "    .dataframe tbody tr th:only-of-type {\n",
       "        vertical-align: middle;\n",
       "    }\n",
       "\n",
       "    .dataframe tbody tr th {\n",
       "        vertical-align: top;\n",
       "    }\n",
       "\n",
       "    .dataframe thead th {\n",
       "        text-align: right;\n",
       "    }\n",
       "</style>\n",
       "<table border=\"1\" class=\"dataframe\">\n",
       "  <thead>\n",
       "    <tr style=\"text-align: right;\">\n",
       "      <th></th>\n",
       "      <th>Account Name</th>\n",
       "      <th>Net Amount</th>\n",
       "      <th>Amount</th>\n",
       "      <th>Opportunity Name</th>\n",
       "      <th>Related Opportunity</th>\n",
       "      <th>Opportunity Owner</th>\n",
       "      <th>Close Date</th>\n",
       "      <th>Free Trial Acquisition Age</th>\n",
       "      <th>Territory</th>\n",
       "      <th>Free Sample</th>\n",
       "    </tr>\n",
       "  </thead>\n",
       "  <tbody>\n",
       "    <tr>\n",
       "      <th>0</th>\n",
       "      <td>Harvard Medical School (HMS) - Brigham &amp; Women...</td>\n",
       "      <td>227.5</td>\n",
       "      <td>256.5</td>\n",
       "      <td>CA17005</td>\n",
       "      <td>FTA16962</td>\n",
       "      <td>Giovanni Musto</td>\n",
       "      <td>11/6/2017</td>\n",
       "      <td>-64.0</td>\n",
       "      <td>BOS</td>\n",
       "      <td>True</td>\n",
       "    </tr>\n",
       "    <tr>\n",
       "      <th>1</th>\n",
       "      <td>Boston University - School of Medicine - Depar...</td>\n",
       "      <td>260.0</td>\n",
       "      <td>289.0</td>\n",
       "      <td>CA21079</td>\n",
       "      <td>FTA16977</td>\n",
       "      <td>Hagop Abkarian</td>\n",
       "      <td>2/14/2018</td>\n",
       "      <td>NaN</td>\n",
       "      <td>BOS</td>\n",
       "      <td>True</td>\n",
       "    </tr>\n",
       "    <tr>\n",
       "      <th>2</th>\n",
       "      <td>University of Southern California (USC)</td>\n",
       "      <td>440.0</td>\n",
       "      <td>440.0</td>\n",
       "      <td>CA19060</td>\n",
       "      <td>FTA19001</td>\n",
       "      <td>Julianna Marqui</td>\n",
       "      <td>12/8/2017</td>\n",
       "      <td>-52.0</td>\n",
       "      <td>T4</td>\n",
       "      <td>True</td>\n",
       "    </tr>\n",
       "    <tr>\n",
       "      <th>3</th>\n",
       "      <td>Massachusetts Institute of Technology (MIT)</td>\n",
       "      <td>91.0</td>\n",
       "      <td>130.0</td>\n",
       "      <td>CA90188</td>\n",
       "      <td>FTA20009</td>\n",
       "      <td>Giovanni Musto</td>\n",
       "      <td>12/5/2019</td>\n",
       "      <td>NaN</td>\n",
       "      <td>BOS</td>\n",
       "      <td>True</td>\n",
       "    </tr>\n",
       "    <tr>\n",
       "      <th>4</th>\n",
       "      <td>Massachusetts Institute of Technology (MIT)</td>\n",
       "      <td>181.0</td>\n",
       "      <td>220.0</td>\n",
       "      <td>CA70731</td>\n",
       "      <td>FTA20009</td>\n",
       "      <td>Giovanni Musto</td>\n",
       "      <td>6/19/2019</td>\n",
       "      <td>NaN</td>\n",
       "      <td>BOS</td>\n",
       "      <td>True</td>\n",
       "    </tr>\n",
       "    <tr>\n",
       "      <th>...</th>\n",
       "      <td>...</td>\n",
       "      <td>...</td>\n",
       "      <td>...</td>\n",
       "      <td>...</td>\n",
       "      <td>...</td>\n",
       "      <td>...</td>\n",
       "      <td>...</td>\n",
       "      <td>...</td>\n",
       "      <td>...</td>\n",
       "      <td>...</td>\n",
       "    </tr>\n",
       "    <tr>\n",
       "      <th>1230</th>\n",
       "      <td>Boston University - School of Medicine - Benja...</td>\n",
       "      <td>90.0</td>\n",
       "      <td>90.0</td>\n",
       "      <td>FTA264</td>\n",
       "      <td>NaN</td>\n",
       "      <td>Giovanni Musto</td>\n",
       "      <td>3/31/2017</td>\n",
       "      <td>36.0</td>\n",
       "      <td>BOS</td>\n",
       "      <td>True</td>\n",
       "    </tr>\n",
       "    <tr>\n",
       "      <th>1231</th>\n",
       "      <td>Northwestern University (NWU)</td>\n",
       "      <td>220.0</td>\n",
       "      <td>220.0</td>\n",
       "      <td>CA15524</td>\n",
       "      <td>NaN</td>\n",
       "      <td>Giovanni Musto</td>\n",
       "      <td>3/23/2017</td>\n",
       "      <td>74.0</td>\n",
       "      <td>T2-A</td>\n",
       "      <td>True</td>\n",
       "    </tr>\n",
       "    <tr>\n",
       "      <th>1232</th>\n",
       "      <td>Boston University - School of Medicine - Benja...</td>\n",
       "      <td>200.0</td>\n",
       "      <td>200.0</td>\n",
       "      <td>FTA258</td>\n",
       "      <td>NaN</td>\n",
       "      <td>Giovanni Musto</td>\n",
       "      <td>3/12/2017</td>\n",
       "      <td>36.0</td>\n",
       "      <td>BOS</td>\n",
       "      <td>True</td>\n",
       "    </tr>\n",
       "    <tr>\n",
       "      <th>1233</th>\n",
       "      <td>University of Illinois at Chicago (UIC)</td>\n",
       "      <td>130.0</td>\n",
       "      <td>130.0</td>\n",
       "      <td>FTA257</td>\n",
       "      <td>NaN</td>\n",
       "      <td>Giovanni Musto</td>\n",
       "      <td>3/7/2017</td>\n",
       "      <td>36.0</td>\n",
       "      <td>T2-A</td>\n",
       "      <td>True</td>\n",
       "    </tr>\n",
       "    <tr>\n",
       "      <th>1234</th>\n",
       "      <td>University of Miami</td>\n",
       "      <td>327.0</td>\n",
       "      <td>327.0</td>\n",
       "      <td>CA15327</td>\n",
       "      <td>NaN</td>\n",
       "      <td>Giovanni Musto</td>\n",
       "      <td>2/7/2017</td>\n",
       "      <td>78.0</td>\n",
       "      <td>T2-B</td>\n",
       "      <td>True</td>\n",
       "    </tr>\n",
       "  </tbody>\n",
       "</table>\n",
       "<p>1206 rows × 10 columns</p>\n",
       "</div>"
      ],
      "text/plain": [
       "                                           Account Name  Net Amount  Amount  \\\n",
       "0     Harvard Medical School (HMS) - Brigham & Women...       227.5   256.5   \n",
       "1     Boston University - School of Medicine - Depar...       260.0   289.0   \n",
       "2               University of Southern California (USC)       440.0   440.0   \n",
       "3           Massachusetts Institute of Technology (MIT)        91.0   130.0   \n",
       "4           Massachusetts Institute of Technology (MIT)       181.0   220.0   \n",
       "...                                                 ...         ...     ...   \n",
       "1230  Boston University - School of Medicine - Benja...        90.0    90.0   \n",
       "1231                      Northwestern University (NWU)       220.0   220.0   \n",
       "1232  Boston University - School of Medicine - Benja...       200.0   200.0   \n",
       "1233            University of Illinois at Chicago (UIC)       130.0   130.0   \n",
       "1234                                University of Miami       327.0   327.0   \n",
       "\n",
       "     Opportunity Name Related Opportunity Opportunity Owner Close Date  \\\n",
       "0             CA17005            FTA16962    Giovanni Musto  11/6/2017   \n",
       "1             CA21079            FTA16977    Hagop Abkarian  2/14/2018   \n",
       "2             CA19060            FTA19001   Julianna Marqui  12/8/2017   \n",
       "3             CA90188            FTA20009    Giovanni Musto  12/5/2019   \n",
       "4             CA70731            FTA20009    Giovanni Musto  6/19/2019   \n",
       "...               ...                 ...               ...        ...   \n",
       "1230           FTA264                 NaN    Giovanni Musto  3/31/2017   \n",
       "1231          CA15524                 NaN    Giovanni Musto  3/23/2017   \n",
       "1232           FTA258                 NaN    Giovanni Musto  3/12/2017   \n",
       "1233           FTA257                 NaN    Giovanni Musto   3/7/2017   \n",
       "1234          CA15327                 NaN    Giovanni Musto   2/7/2017   \n",
       "\n",
       "      Free Trial Acquisition Age Territory Free Sample  \n",
       "0                          -64.0       BOS        True  \n",
       "1                            NaN       BOS        True  \n",
       "2                          -52.0        T4        True  \n",
       "3                            NaN       BOS        True  \n",
       "4                            NaN       BOS        True  \n",
       "...                          ...       ...         ...  \n",
       "1230                        36.0       BOS        True  \n",
       "1231                        74.0      T2-A        True  \n",
       "1232                        36.0       BOS        True  \n",
       "1233                        36.0      T2-A        True  \n",
       "1234                        78.0      T2-B        True  \n",
       "\n",
       "[1206 rows x 10 columns]"
      ]
     },
     "execution_count": 3,
     "metadata": {},
     "output_type": "execute_result"
    }
   ],
   "source": [
    "df1[\"Free Sample\"]='True'\n",
    "df1 = df1[df1['Territory'] !=\"House\"]\n",
    "df1"
   ]
  },
  {
   "cell_type": "code",
   "execution_count": 4,
   "metadata": {
    "scrolled": true
   },
   "outputs": [],
   "source": [
    "profit1 = df1.groupby('Close Date')['Amount'].sum()\n",
    "profit1 = profit1.reset_index()\n",
    "profit1.to_csv('RealGraph.csv')"
   ]
  },
  {
   "cell_type": "code",
   "execution_count": 5,
   "metadata": {
    "scrolled": true
   },
   "outputs": [
    {
     "data": {
      "text/plain": [
       "Opportunity Owner\n",
       "Adriana Rogozea       1606.00\n",
       "Bita Bordbar           300.00\n",
       "Casey Woodward       36730.12\n",
       "Christopher Ayres    83082.62\n",
       "Daniel Dempsey       27064.90\n",
       "Deepu Devadas         8818.30\n",
       "Giovanni Musto       24364.25\n",
       "Hagop Abkarian        7256.40\n",
       "Ibrahim Gray           856.00\n",
       "Icy Niu                300.40\n",
       "Isaiah Nieland         382.00\n",
       "Juan Franco          13666.00\n",
       "Julianna Marqui      12961.50\n",
       "Link Yang             6439.25\n",
       "Matthew Weiler       21027.46\n",
       "Maurice Hu            6802.60\n",
       "Mohammed Bekkour       776.16\n",
       "Robert Rizzari       17508.20\n",
       "Shuang Li             1340.00\n",
       "Tarang Upadhyaya     38525.05\n",
       "Victoria Onwu        19276.40\n",
       "Wesley Wang           9860.00\n",
       "Name: Amount, dtype: float64"
      ]
     },
     "execution_count": 5,
     "metadata": {},
     "output_type": "execute_result"
    }
   ],
   "source": [
    "profit2 = df1.groupby('Opportunity Owner')['Amount'].sum()\n",
    "profit2"
   ]
  },
  {
   "cell_type": "code",
   "execution_count": 6,
   "metadata": {
    "scrolled": true
   },
   "outputs": [
    {
     "data": {
      "text/plain": [
       "Opportunity Owner\n",
       "Adriana Rogozea        7\n",
       "Bita Bordbar           1\n",
       "Casey Woodward       108\n",
       "Christopher Ayres    299\n",
       "Daniel Dempsey       104\n",
       "Deepu Devadas         30\n",
       "Giovanni Musto        97\n",
       "Hagop Abkarian        29\n",
       "Ibrahim Gray           4\n",
       "Icy Niu                1\n",
       "Isaiah Nieland         2\n",
       "Juan Franco           51\n",
       "Julianna Marqui       48\n",
       "Link Yang             26\n",
       "Matthew Weiler        77\n",
       "Maurice Hu            23\n",
       "Mohammed Bekkour       3\n",
       "Robert Rizzari        75\n",
       "Shuang Li              5\n",
       "Tarang Upadhyaya     115\n",
       "Victoria Onwu         64\n",
       "Wesley Wang           37\n",
       "Name: Num of Real Purchase, dtype: int64"
      ]
     },
     "execution_count": 6,
     "metadata": {},
     "output_type": "execute_result"
    }
   ],
   "source": [
    "real=df1.groupby('Opportunity Owner')['Opportunity Name'].count()\n",
    "real = real.rename(\"Num of Real Purchase\")\n",
    "real"
   ]
  },
  {
   "cell_type": "markdown",
   "metadata": {},
   "source": [
    "# Free Sample"
   ]
  },
  {
   "cell_type": "code",
   "execution_count": 8,
   "metadata": {
    "scrolled": true
   },
   "outputs": [],
   "source": [
    "input_dir = os.getcwd()\n",
    "input_file2= os.path.join(input_dir, 'freesample.csv')\n",
    "df2 = pd.read_csv(input_file2,encoding = \"ISO-8859-1\")"
   ]
  },
  {
   "cell_type": "code",
   "execution_count": 9,
   "metadata": {
    "scrolled": true
   },
   "outputs": [
    {
     "data": {
      "text/html": [
       "<div>\n",
       "<style scoped>\n",
       "    .dataframe tbody tr th:only-of-type {\n",
       "        vertical-align: middle;\n",
       "    }\n",
       "\n",
       "    .dataframe tbody tr th {\n",
       "        vertical-align: top;\n",
       "    }\n",
       "\n",
       "    .dataframe thead th {\n",
       "        text-align: right;\n",
       "    }\n",
       "</style>\n",
       "<table border=\"1\" class=\"dataframe\">\n",
       "  <thead>\n",
       "    <tr style=\"text-align: right;\">\n",
       "      <th></th>\n",
       "      <th>Primary Contact</th>\n",
       "      <th>Close Date</th>\n",
       "      <th>Opportunity Name</th>\n",
       "      <th>Opportunity Owner</th>\n",
       "      <th>Amount</th>\n",
       "      <th>Net Amount</th>\n",
       "      <th>Shipping Fee</th>\n",
       "      <th>Remark</th>\n",
       "      <th>Territory</th>\n",
       "      <th>Account Name</th>\n",
       "    </tr>\n",
       "  </thead>\n",
       "  <tbody>\n",
       "    <tr>\n",
       "      <th>0</th>\n",
       "      <td>Emrah Altindis</td>\n",
       "      <td>1/4/19</td>\n",
       "      <td>FTA20825</td>\n",
       "      <td>Hagop Abkarian</td>\n",
       "      <td>0.0</td>\n",
       "      <td>0</td>\n",
       "      <td>0.0</td>\n",
       "      <td>NaN</td>\n",
       "      <td>BOS</td>\n",
       "      <td>Boston College</td>\n",
       "    </tr>\n",
       "    <tr>\n",
       "      <th>1</th>\n",
       "      <td>Emrah Altindis</td>\n",
       "      <td>2/22/19</td>\n",
       "      <td>FTA70105</td>\n",
       "      <td>Hagop Abkarian</td>\n",
       "      <td>0.0</td>\n",
       "      <td>0</td>\n",
       "      <td>0.0</td>\n",
       "      <td>coming from the amount owed\\n319 from 1109 fro...</td>\n",
       "      <td>BOS</td>\n",
       "      <td>Boston College</td>\n",
       "    </tr>\n",
       "    <tr>\n",
       "      <th>2</th>\n",
       "      <td>Emrah Altindis</td>\n",
       "      <td>3/8/19</td>\n",
       "      <td>FTA70209</td>\n",
       "      <td>Hagop Abkarian</td>\n",
       "      <td>0.0</td>\n",
       "      <td>0</td>\n",
       "      <td>0.0</td>\n",
       "      <td>coming from the amount owed\\n127 from 790 is 663</td>\n",
       "      <td>BOS</td>\n",
       "      <td>Boston College</td>\n",
       "    </tr>\n",
       "    <tr>\n",
       "      <th>3</th>\n",
       "      <td>NaN</td>\n",
       "      <td>9/13/19</td>\n",
       "      <td>FTA91080</td>\n",
       "      <td>Hagop Abkarian</td>\n",
       "      <td>0.0</td>\n",
       "      <td>0</td>\n",
       "      <td>0.0</td>\n",
       "      <td>coming from the amount owed\\n839, $0 credit re...</td>\n",
       "      <td>BOS</td>\n",
       "      <td>Boston College</td>\n",
       "    </tr>\n",
       "    <tr>\n",
       "      <th>4</th>\n",
       "      <td>Lisa Kretsge</td>\n",
       "      <td>11/1/19</td>\n",
       "      <td>FTA90140</td>\n",
       "      <td>Tarang Upadhyaya</td>\n",
       "      <td>0.0</td>\n",
       "      <td>0</td>\n",
       "      <td>0.0</td>\n",
       "      <td>FedEx/UPS account number: 1263-2880-0</td>\n",
       "      <td>BOS</td>\n",
       "      <td>Boston University - Cruz-Martín Lab</td>\n",
       "    </tr>\n",
       "    <tr>\n",
       "      <th>...</th>\n",
       "      <td>...</td>\n",
       "      <td>...</td>\n",
       "      <td>...</td>\n",
       "      <td>...</td>\n",
       "      <td>...</td>\n",
       "      <td>...</td>\n",
       "      <td>...</td>\n",
       "      <td>...</td>\n",
       "      <td>...</td>\n",
       "      <td>...</td>\n",
       "    </tr>\n",
       "    <tr>\n",
       "      <th>2270</th>\n",
       "      <td>Steve Sylvester</td>\n",
       "      <td>7/9/19</td>\n",
       "      <td>FTA51241</td>\n",
       "      <td>Daniel Dempsey</td>\n",
       "      <td>0.0</td>\n",
       "      <td>-39</td>\n",
       "      <td>39.0</td>\n",
       "      <td>A2831 \\nA12373</td>\n",
       "      <td>T4</td>\n",
       "      <td>Washington State University (WSU)</td>\n",
       "    </tr>\n",
       "    <tr>\n",
       "      <th>2271</th>\n",
       "      <td>Swechha Mainali Pokharel</td>\n",
       "      <td>8/27/19</td>\n",
       "      <td>FTA51439</td>\n",
       "      <td>Daniel Dempsey</td>\n",
       "      <td>0.0</td>\n",
       "      <td>0</td>\n",
       "      <td>0.0</td>\n",
       "      <td>A16248\\nA0692\\nA14254\\nFTME sample</td>\n",
       "      <td>T4</td>\n",
       "      <td>Washington State University (WSU)</td>\n",
       "    </tr>\n",
       "    <tr>\n",
       "      <th>2272</th>\n",
       "      <td>Tracy M Covey</td>\n",
       "      <td>7/10/19</td>\n",
       "      <td>FTA51249</td>\n",
       "      <td>Daniel Dempsey</td>\n",
       "      <td>0.0</td>\n",
       "      <td>-39</td>\n",
       "      <td>39.0</td>\n",
       "      <td>A5893 \\nA13458</td>\n",
       "      <td>T4</td>\n",
       "      <td>Weber State University</td>\n",
       "    </tr>\n",
       "    <tr>\n",
       "      <th>2273</th>\n",
       "      <td>Bill Hendry</td>\n",
       "      <td>7/5/19</td>\n",
       "      <td>FTA51215</td>\n",
       "      <td>Daniel Dempsey</td>\n",
       "      <td>0.0</td>\n",
       "      <td>-39</td>\n",
       "      <td>39.0</td>\n",
       "      <td>NaN</td>\n",
       "      <td>T4</td>\n",
       "      <td>Witichita State University</td>\n",
       "    </tr>\n",
       "    <tr>\n",
       "      <th>2274</th>\n",
       "      <td>Nayan Shrestha</td>\n",
       "      <td>7/11/19</td>\n",
       "      <td>FTA51256</td>\n",
       "      <td>Daniel Dempsey</td>\n",
       "      <td>0.0</td>\n",
       "      <td>-39</td>\n",
       "      <td>39.0</td>\n",
       "      <td>A15999\\nA13302\\nA1961\\nA11273</td>\n",
       "      <td>T4</td>\n",
       "      <td>Witichita State University</td>\n",
       "    </tr>\n",
       "  </tbody>\n",
       "</table>\n",
       "<p>2258 rows × 10 columns</p>\n",
       "</div>"
      ],
      "text/plain": [
       "               Primary Contact Close Date Opportunity Name Opportunity Owner  \\\n",
       "0               Emrah Altindis     1/4/19         FTA20825    Hagop Abkarian   \n",
       "1               Emrah Altindis    2/22/19         FTA70105    Hagop Abkarian   \n",
       "2               Emrah Altindis     3/8/19         FTA70209    Hagop Abkarian   \n",
       "3                          NaN    9/13/19         FTA91080    Hagop Abkarian   \n",
       "4                 Lisa Kretsge    11/1/19         FTA90140  Tarang Upadhyaya   \n",
       "...                        ...        ...              ...               ...   \n",
       "2270           Steve Sylvester     7/9/19         FTA51241    Daniel Dempsey   \n",
       "2271  Swechha Mainali Pokharel    8/27/19         FTA51439    Daniel Dempsey   \n",
       "2272             Tracy M Covey    7/10/19         FTA51249    Daniel Dempsey   \n",
       "2273               Bill Hendry     7/5/19         FTA51215    Daniel Dempsey   \n",
       "2274            Nayan Shrestha    7/11/19         FTA51256    Daniel Dempsey   \n",
       "\n",
       "      Amount  Net Amount  Shipping Fee  \\\n",
       "0        0.0           0           0.0   \n",
       "1        0.0           0           0.0   \n",
       "2        0.0           0           0.0   \n",
       "3        0.0           0           0.0   \n",
       "4        0.0           0           0.0   \n",
       "...      ...         ...           ...   \n",
       "2270     0.0         -39          39.0   \n",
       "2271     0.0           0           0.0   \n",
       "2272     0.0         -39          39.0   \n",
       "2273     0.0         -39          39.0   \n",
       "2274     0.0         -39          39.0   \n",
       "\n",
       "                                                 Remark Territory  \\\n",
       "0                                                   NaN       BOS   \n",
       "1     coming from the amount owed\\n319 from 1109 fro...       BOS   \n",
       "2      coming from the amount owed\\n127 from 790 is 663       BOS   \n",
       "3     coming from the amount owed\\n839, $0 credit re...       BOS   \n",
       "4                 FedEx/UPS account number: 1263-2880-0       BOS   \n",
       "...                                                 ...       ...   \n",
       "2270                                     A2831 \\nA12373        T4   \n",
       "2271                 A16248\\nA0692\\nA14254\\nFTME sample        T4   \n",
       "2272                                     A5893 \\nA13458        T4   \n",
       "2273                                                NaN        T4   \n",
       "2274                      A15999\\nA13302\\nA1961\\nA11273        T4   \n",
       "\n",
       "                             Account Name  \n",
       "0                          Boston College  \n",
       "1                          Boston College  \n",
       "2                          Boston College  \n",
       "3                          Boston College  \n",
       "4     Boston University - Cruz-Martín Lab  \n",
       "...                                   ...  \n",
       "2270    Washington State University (WSU)  \n",
       "2271    Washington State University (WSU)  \n",
       "2272               Weber State University  \n",
       "2273           Witichita State University  \n",
       "2274           Witichita State University  \n",
       "\n",
       "[2258 rows x 10 columns]"
      ]
     },
     "execution_count": 9,
     "metadata": {},
     "output_type": "execute_result"
    }
   ],
   "source": [
    "df2 = df2[df2['Territory'] !=\"House\"]\n",
    "df2"
   ]
  },
  {
   "cell_type": "code",
   "execution_count": 10,
   "metadata": {},
   "outputs": [
    {
     "data": {
      "text/plain": [
       "Opportunity Owner\n",
       "Adriana Rogozea                                              [T4]\n",
       "Casey Woodward                                             [T2-B]\n",
       "Christopher Ayres                                [T2-A, T2-B, T4]\n",
       "Daniel Dempsey                                           [SD, T4]\n",
       "Deepu Devadas                                      [SD, T2-B, T4]\n",
       "Giovanni Musto                           [BOS, NYC, T1, T2-A, T4]\n",
       "Hagop Abkarian                                   [BOS, EU-T3, T1]\n",
       "Ibrahim Gray                                     [T2-A, T2-B, T4]\n",
       "Icy Niu                                            [EU-T1, EU-T3]\n",
       "Isaiah Nieland                                             [T2-A]\n",
       "Juan Franco                               [Canada, DAL, HOU, NYC]\n",
       "Julianna Marqui                                              [T4]\n",
       "Link Yang                                               [BOS, T1]\n",
       "Matthew Weiler                                  [Canada, NYC, T1]\n",
       "Maurice Hu                                             [DAL, HOU]\n",
       "Mica Hannify                                               [T2-B]\n",
       "Mohammed Bekkour                                           [T2-A]\n",
       "Nassima Amarouche                                         [EU-T1]\n",
       "Robert Rizzari                                         [T2-A, T4]\n",
       "Samrina Lamichhane                                [NYC, T1, T2-B]\n",
       "Shuang Li                                                   [DAL]\n",
       "Tarang Upadhyaya      [BOS, Canada, HOU, NYC, T1, T2-A, T2-B, T4]\n",
       "Trevor White                                                [BOS]\n",
       "Victoria Onwu                                   [Canada, DAL, T4]\n",
       "Wesley Wang                                                [T2-A]\n",
       "Name: Territory, dtype: object"
      ]
     },
     "execution_count": 10,
     "metadata": {},
     "output_type": "execute_result"
    }
   ],
   "source": [
    "df2.groupby('Opportunity Owner')['Territory'].unique()"
   ]
  },
  {
   "cell_type": "code",
   "execution_count": 91,
   "metadata": {
    "scrolled": false
   },
   "outputs": [
    {
     "name": "stdout",
     "output_type": "stream",
     "text": [
      "Close Date\n",
      "1/1/20     6\n",
      "1/10/19    2\n",
      "1/10/20    1\n",
      "1/11/18    1\n",
      "1/12/18    3\n",
      "          ..\n",
      "9/7/17     1\n",
      "9/7/18     1\n",
      "9/8/17     1\n",
      "9/9/18     1\n",
      "9/9/19     6\n",
      "Name: Opportunity Name, Length: 514, dtype: int64\n"
     ]
    },
    {
     "data": {
      "text/html": [
       "<div>\n",
       "<style scoped>\n",
       "    .dataframe tbody tr th:only-of-type {\n",
       "        vertical-align: middle;\n",
       "    }\n",
       "\n",
       "    .dataframe tbody tr th {\n",
       "        vertical-align: top;\n",
       "    }\n",
       "\n",
       "    .dataframe thead th {\n",
       "        text-align: right;\n",
       "    }\n",
       "</style>\n",
       "<table border=\"1\" class=\"dataframe\">\n",
       "  <thead>\n",
       "    <tr style=\"text-align: right;\">\n",
       "      <th></th>\n",
       "      <th>Close Date</th>\n",
       "      <th>Opportunity Name</th>\n",
       "    </tr>\n",
       "  </thead>\n",
       "  <tbody>\n",
       "    <tr>\n",
       "      <th>0</th>\n",
       "      <td>1/1/20</td>\n",
       "      <td>6</td>\n",
       "    </tr>\n",
       "    <tr>\n",
       "      <th>1</th>\n",
       "      <td>1/10/19</td>\n",
       "      <td>2</td>\n",
       "    </tr>\n",
       "    <tr>\n",
       "      <th>2</th>\n",
       "      <td>1/10/20</td>\n",
       "      <td>1</td>\n",
       "    </tr>\n",
       "    <tr>\n",
       "      <th>3</th>\n",
       "      <td>1/11/18</td>\n",
       "      <td>1</td>\n",
       "    </tr>\n",
       "    <tr>\n",
       "      <th>4</th>\n",
       "      <td>1/12/18</td>\n",
       "      <td>3</td>\n",
       "    </tr>\n",
       "    <tr>\n",
       "      <th>...</th>\n",
       "      <td>...</td>\n",
       "      <td>...</td>\n",
       "    </tr>\n",
       "    <tr>\n",
       "      <th>509</th>\n",
       "      <td>9/7/17</td>\n",
       "      <td>1</td>\n",
       "    </tr>\n",
       "    <tr>\n",
       "      <th>510</th>\n",
       "      <td>9/7/18</td>\n",
       "      <td>1</td>\n",
       "    </tr>\n",
       "    <tr>\n",
       "      <th>511</th>\n",
       "      <td>9/8/17</td>\n",
       "      <td>1</td>\n",
       "    </tr>\n",
       "    <tr>\n",
       "      <th>512</th>\n",
       "      <td>9/9/18</td>\n",
       "      <td>1</td>\n",
       "    </tr>\n",
       "    <tr>\n",
       "      <th>513</th>\n",
       "      <td>9/9/19</td>\n",
       "      <td>6</td>\n",
       "    </tr>\n",
       "  </tbody>\n",
       "</table>\n",
       "<p>514 rows × 2 columns</p>\n",
       "</div>"
      ],
      "text/plain": [
       "    Close Date  Opportunity Name\n",
       "0       1/1/20                 6\n",
       "1      1/10/19                 2\n",
       "2      1/10/20                 1\n",
       "3      1/11/18                 1\n",
       "4      1/12/18                 3\n",
       "..         ...               ...\n",
       "509     9/7/17                 1\n",
       "510     9/7/18                 1\n",
       "511     9/8/17                 1\n",
       "512     9/9/18                 1\n",
       "513     9/9/19                 6\n",
       "\n",
       "[514 rows x 2 columns]"
      ]
     },
     "execution_count": 91,
     "metadata": {},
     "output_type": "execute_result"
    }
   ],
   "source": [
    "num = df2.groupby('Close Date')['Opportunity Name'].count()\n",
    "print(num)\n",
    "sample_gragh = num.reset_index()\n",
    "sample_gragh\n",
    "#sample_gragh.to_csv('SampleGraph.csv')"
   ]
  },
  {
   "cell_type": "code",
   "execution_count": 92,
   "metadata": {
    "scrolled": true
   },
   "outputs": [
    {
     "data": {
      "text/plain": [
       "Opportunity Owner\n",
       "Adriana Rogozea         2\n",
       "Casey Woodward        167\n",
       "Christopher Ayres     290\n",
       "Daniel Dempsey        190\n",
       "Deepu Devadas          90\n",
       "Giovanni Musto        110\n",
       "Hagop Abkarian         72\n",
       "Ibrahim Gray           16\n",
       "Icy Niu                 3\n",
       "Isaiah Nieland          1\n",
       "Juan Franco            87\n",
       "Julianna Marqui         9\n",
       "Link Yang              15\n",
       "Matthew Weiler        215\n",
       "Maurice Hu            100\n",
       "Mica Hannify            1\n",
       "Mohammed Bekkour       19\n",
       "Nassima Amarouche       8\n",
       "Robert Rizzari        488\n",
       "Samrina Lamichhane      6\n",
       "Shuang Li              14\n",
       "Tarang Upadhyaya      273\n",
       "Trevor White            1\n",
       "Victoria Onwu          40\n",
       "Wesley Wang            41\n",
       "Name: Opportunity Name, dtype: int64"
      ]
     },
     "execution_count": 92,
     "metadata": {},
     "output_type": "execute_result"
    }
   ],
   "source": [
    "units1 = df2.groupby('Opportunity Owner')['Opportunity Name'].count()\n",
    "units1"
   ]
  },
  {
   "cell_type": "code",
   "execution_count": 93,
   "metadata": {
    "scrolled": true
   },
   "outputs": [
    {
     "data": {
      "text/html": [
       "<div>\n",
       "<style scoped>\n",
       "    .dataframe tbody tr th:only-of-type {\n",
       "        vertical-align: middle;\n",
       "    }\n",
       "\n",
       "    .dataframe tbody tr th {\n",
       "        vertical-align: top;\n",
       "    }\n",
       "\n",
       "    .dataframe thead th {\n",
       "        text-align: right;\n",
       "    }\n",
       "</style>\n",
       "<table border=\"1\" class=\"dataframe\">\n",
       "  <thead>\n",
       "    <tr style=\"text-align: right;\">\n",
       "      <th></th>\n",
       "      <th>Opportunity Owner</th>\n",
       "      <th>Num of FTA sent</th>\n",
       "      <th>Amount</th>\n",
       "    </tr>\n",
       "  </thead>\n",
       "  <tbody>\n",
       "    <tr>\n",
       "      <th>0</th>\n",
       "      <td>Adriana Rogozea</td>\n",
       "      <td>2.0</td>\n",
       "      <td>1606.00</td>\n",
       "    </tr>\n",
       "    <tr>\n",
       "      <th>1</th>\n",
       "      <td>Casey Woodward</td>\n",
       "      <td>167.0</td>\n",
       "      <td>36730.12</td>\n",
       "    </tr>\n",
       "    <tr>\n",
       "      <th>2</th>\n",
       "      <td>Christopher Ayres</td>\n",
       "      <td>290.0</td>\n",
       "      <td>83082.62</td>\n",
       "    </tr>\n",
       "    <tr>\n",
       "      <th>3</th>\n",
       "      <td>Daniel Dempsey</td>\n",
       "      <td>190.0</td>\n",
       "      <td>27064.90</td>\n",
       "    </tr>\n",
       "    <tr>\n",
       "      <th>4</th>\n",
       "      <td>Deepu Devadas</td>\n",
       "      <td>90.0</td>\n",
       "      <td>8818.30</td>\n",
       "    </tr>\n",
       "    <tr>\n",
       "      <th>5</th>\n",
       "      <td>Giovanni Musto</td>\n",
       "      <td>110.0</td>\n",
       "      <td>24364.25</td>\n",
       "    </tr>\n",
       "    <tr>\n",
       "      <th>6</th>\n",
       "      <td>Hagop Abkarian</td>\n",
       "      <td>72.0</td>\n",
       "      <td>7256.40</td>\n",
       "    </tr>\n",
       "    <tr>\n",
       "      <th>7</th>\n",
       "      <td>Ibrahim Gray</td>\n",
       "      <td>16.0</td>\n",
       "      <td>856.00</td>\n",
       "    </tr>\n",
       "    <tr>\n",
       "      <th>8</th>\n",
       "      <td>Icy Niu</td>\n",
       "      <td>3.0</td>\n",
       "      <td>300.40</td>\n",
       "    </tr>\n",
       "    <tr>\n",
       "      <th>9</th>\n",
       "      <td>Isaiah Nieland</td>\n",
       "      <td>1.0</td>\n",
       "      <td>382.00</td>\n",
       "    </tr>\n",
       "    <tr>\n",
       "      <th>10</th>\n",
       "      <td>Juan Franco</td>\n",
       "      <td>87.0</td>\n",
       "      <td>13666.00</td>\n",
       "    </tr>\n",
       "    <tr>\n",
       "      <th>11</th>\n",
       "      <td>Julianna Marqui</td>\n",
       "      <td>9.0</td>\n",
       "      <td>12961.50</td>\n",
       "    </tr>\n",
       "    <tr>\n",
       "      <th>12</th>\n",
       "      <td>Link Yang</td>\n",
       "      <td>15.0</td>\n",
       "      <td>6439.25</td>\n",
       "    </tr>\n",
       "    <tr>\n",
       "      <th>13</th>\n",
       "      <td>Matthew Weiler</td>\n",
       "      <td>215.0</td>\n",
       "      <td>21027.46</td>\n",
       "    </tr>\n",
       "    <tr>\n",
       "      <th>14</th>\n",
       "      <td>Maurice Hu</td>\n",
       "      <td>100.0</td>\n",
       "      <td>6802.60</td>\n",
       "    </tr>\n",
       "    <tr>\n",
       "      <th>15</th>\n",
       "      <td>Mica Hannify</td>\n",
       "      <td>1.0</td>\n",
       "      <td>NaN</td>\n",
       "    </tr>\n",
       "    <tr>\n",
       "      <th>16</th>\n",
       "      <td>Mohammed Bekkour</td>\n",
       "      <td>19.0</td>\n",
       "      <td>776.16</td>\n",
       "    </tr>\n",
       "    <tr>\n",
       "      <th>17</th>\n",
       "      <td>Nassima Amarouche</td>\n",
       "      <td>8.0</td>\n",
       "      <td>NaN</td>\n",
       "    </tr>\n",
       "    <tr>\n",
       "      <th>18</th>\n",
       "      <td>Robert Rizzari</td>\n",
       "      <td>488.0</td>\n",
       "      <td>17508.20</td>\n",
       "    </tr>\n",
       "    <tr>\n",
       "      <th>19</th>\n",
       "      <td>Samrina Lamichhane</td>\n",
       "      <td>6.0</td>\n",
       "      <td>NaN</td>\n",
       "    </tr>\n",
       "    <tr>\n",
       "      <th>20</th>\n",
       "      <td>Shuang Li</td>\n",
       "      <td>14.0</td>\n",
       "      <td>1340.00</td>\n",
       "    </tr>\n",
       "    <tr>\n",
       "      <th>21</th>\n",
       "      <td>Tarang Upadhyaya</td>\n",
       "      <td>273.0</td>\n",
       "      <td>38525.05</td>\n",
       "    </tr>\n",
       "    <tr>\n",
       "      <th>22</th>\n",
       "      <td>Trevor White</td>\n",
       "      <td>1.0</td>\n",
       "      <td>NaN</td>\n",
       "    </tr>\n",
       "    <tr>\n",
       "      <th>23</th>\n",
       "      <td>Victoria Onwu</td>\n",
       "      <td>40.0</td>\n",
       "      <td>19276.40</td>\n",
       "    </tr>\n",
       "    <tr>\n",
       "      <th>24</th>\n",
       "      <td>Wesley Wang</td>\n",
       "      <td>41.0</td>\n",
       "      <td>9860.00</td>\n",
       "    </tr>\n",
       "    <tr>\n",
       "      <th>25</th>\n",
       "      <td>Bita Bordbar</td>\n",
       "      <td>NaN</td>\n",
       "      <td>300.00</td>\n",
       "    </tr>\n",
       "  </tbody>\n",
       "</table>\n",
       "</div>"
      ],
      "text/plain": [
       "     Opportunity Owner  Num of FTA sent    Amount\n",
       "0      Adriana Rogozea              2.0   1606.00\n",
       "1       Casey Woodward            167.0  36730.12\n",
       "2    Christopher Ayres            290.0  83082.62\n",
       "3       Daniel Dempsey            190.0  27064.90\n",
       "4        Deepu Devadas             90.0   8818.30\n",
       "5       Giovanni Musto            110.0  24364.25\n",
       "6       Hagop Abkarian             72.0   7256.40\n",
       "7         Ibrahim Gray             16.0    856.00\n",
       "8              Icy Niu              3.0    300.40\n",
       "9       Isaiah Nieland              1.0    382.00\n",
       "10         Juan Franco             87.0  13666.00\n",
       "11     Julianna Marqui              9.0  12961.50\n",
       "12           Link Yang             15.0   6439.25\n",
       "13      Matthew Weiler            215.0  21027.46\n",
       "14          Maurice Hu            100.0   6802.60\n",
       "15        Mica Hannify              1.0       NaN\n",
       "16    Mohammed Bekkour             19.0    776.16\n",
       "17   Nassima Amarouche              8.0       NaN\n",
       "18      Robert Rizzari            488.0  17508.20\n",
       "19  Samrina Lamichhane              6.0       NaN\n",
       "20           Shuang Li             14.0   1340.00\n",
       "21    Tarang Upadhyaya            273.0  38525.05\n",
       "22        Trevor White              1.0       NaN\n",
       "23       Victoria Onwu             40.0  19276.40\n",
       "24         Wesley Wang             41.0   9860.00\n",
       "25        Bita Bordbar              NaN    300.00"
      ]
     },
     "execution_count": 93,
     "metadata": {},
     "output_type": "execute_result"
    }
   ],
   "source": [
    "df3 = pd.concat([units1, profit2], axis=1).reset_index()\n",
    "df3= df3.rename(columns={\"index\":\"Opportunity Owner\",\"Opportunity Name\":\"Num of FTA sent\"})\n",
    "df3"
   ]
  },
  {
   "cell_type": "code",
   "execution_count": 94,
   "metadata": {},
   "outputs": [
    {
     "data": {
      "text/html": [
       "<div>\n",
       "<style scoped>\n",
       "    .dataframe tbody tr th:only-of-type {\n",
       "        vertical-align: middle;\n",
       "    }\n",
       "\n",
       "    .dataframe tbody tr th {\n",
       "        vertical-align: top;\n",
       "    }\n",
       "\n",
       "    .dataframe thead th {\n",
       "        text-align: right;\n",
       "    }\n",
       "</style>\n",
       "<table border=\"1\" class=\"dataframe\">\n",
       "  <thead>\n",
       "    <tr style=\"text-align: right;\">\n",
       "      <th></th>\n",
       "      <th>Opportunity Owner</th>\n",
       "      <th>Num of FTA sent</th>\n",
       "      <th>Amount</th>\n",
       "    </tr>\n",
       "  </thead>\n",
       "  <tbody>\n",
       "    <tr>\n",
       "      <th>0</th>\n",
       "      <td>Adriana Rogozea</td>\n",
       "      <td>2.0</td>\n",
       "      <td>1606.00</td>\n",
       "    </tr>\n",
       "    <tr>\n",
       "      <th>1</th>\n",
       "      <td>Casey Woodward</td>\n",
       "      <td>167.0</td>\n",
       "      <td>36730.12</td>\n",
       "    </tr>\n",
       "    <tr>\n",
       "      <th>2</th>\n",
       "      <td>Christopher Ayres</td>\n",
       "      <td>290.0</td>\n",
       "      <td>83082.62</td>\n",
       "    </tr>\n",
       "    <tr>\n",
       "      <th>3</th>\n",
       "      <td>Daniel Dempsey</td>\n",
       "      <td>190.0</td>\n",
       "      <td>27064.90</td>\n",
       "    </tr>\n",
       "    <tr>\n",
       "      <th>4</th>\n",
       "      <td>Deepu Devadas</td>\n",
       "      <td>90.0</td>\n",
       "      <td>8818.30</td>\n",
       "    </tr>\n",
       "  </tbody>\n",
       "</table>\n",
       "</div>"
      ],
      "text/plain": [
       "   Opportunity Owner  Num of FTA sent    Amount\n",
       "0    Adriana Rogozea              2.0   1606.00\n",
       "1     Casey Woodward            167.0  36730.12\n",
       "2  Christopher Ayres            290.0  83082.62\n",
       "3     Daniel Dempsey            190.0  27064.90\n",
       "4      Deepu Devadas             90.0   8818.30"
      ]
     },
     "execution_count": 94,
     "metadata": {},
     "output_type": "execute_result"
    }
   ],
   "source": [
    "df3['Num of FTA sent'] = df3['Num of FTA sent'].fillna(1)\n",
    "df3['Amount'] = df3['Amount'].fillna(0)\n",
    "df3.head()"
   ]
  },
  {
   "cell_type": "code",
   "execution_count": 99,
   "metadata": {
    "scrolled": false
   },
   "outputs": [
    {
     "data": {
      "text/plain": [
       "86.88461538461539"
      ]
     },
     "execution_count": 99,
     "metadata": {},
     "output_type": "execute_result"
    }
   ],
   "source": [
    "df3['Num of FTA sent'].mean()"
   ]
  },
  {
   "cell_type": "code",
   "execution_count": 96,
   "metadata": {
    "scrolled": true
   },
   "outputs": [
    {
     "data": {
      "text/html": [
       "<div>\n",
       "<style scoped>\n",
       "    .dataframe tbody tr th:only-of-type {\n",
       "        vertical-align: middle;\n",
       "    }\n",
       "\n",
       "    .dataframe tbody tr th {\n",
       "        vertical-align: top;\n",
       "    }\n",
       "\n",
       "    .dataframe thead th {\n",
       "        text-align: right;\n",
       "    }\n",
       "</style>\n",
       "<table border=\"1\" class=\"dataframe\">\n",
       "  <thead>\n",
       "    <tr style=\"text-align: right;\">\n",
       "      <th></th>\n",
       "      <th>Opportunity Owner</th>\n",
       "      <th>Num of FTA sent</th>\n",
       "      <th>Num of Real Purchase</th>\n",
       "    </tr>\n",
       "  </thead>\n",
       "  <tbody>\n",
       "    <tr>\n",
       "      <th>0</th>\n",
       "      <td>Adriana Rogozea</td>\n",
       "      <td>2.0</td>\n",
       "      <td>7.0</td>\n",
       "    </tr>\n",
       "    <tr>\n",
       "      <th>1</th>\n",
       "      <td>Casey Woodward</td>\n",
       "      <td>167.0</td>\n",
       "      <td>108.0</td>\n",
       "    </tr>\n",
       "    <tr>\n",
       "      <th>2</th>\n",
       "      <td>Christopher Ayres</td>\n",
       "      <td>290.0</td>\n",
       "      <td>299.0</td>\n",
       "    </tr>\n",
       "    <tr>\n",
       "      <th>3</th>\n",
       "      <td>Daniel Dempsey</td>\n",
       "      <td>190.0</td>\n",
       "      <td>104.0</td>\n",
       "    </tr>\n",
       "    <tr>\n",
       "      <th>4</th>\n",
       "      <td>Deepu Devadas</td>\n",
       "      <td>90.0</td>\n",
       "      <td>30.0</td>\n",
       "    </tr>\n",
       "    <tr>\n",
       "      <th>5</th>\n",
       "      <td>Giovanni Musto</td>\n",
       "      <td>110.0</td>\n",
       "      <td>97.0</td>\n",
       "    </tr>\n",
       "    <tr>\n",
       "      <th>6</th>\n",
       "      <td>Hagop Abkarian</td>\n",
       "      <td>72.0</td>\n",
       "      <td>29.0</td>\n",
       "    </tr>\n",
       "    <tr>\n",
       "      <th>7</th>\n",
       "      <td>Ibrahim Gray</td>\n",
       "      <td>16.0</td>\n",
       "      <td>4.0</td>\n",
       "    </tr>\n",
       "    <tr>\n",
       "      <th>8</th>\n",
       "      <td>Icy Niu</td>\n",
       "      <td>3.0</td>\n",
       "      <td>1.0</td>\n",
       "    </tr>\n",
       "    <tr>\n",
       "      <th>9</th>\n",
       "      <td>Isaiah Nieland</td>\n",
       "      <td>1.0</td>\n",
       "      <td>2.0</td>\n",
       "    </tr>\n",
       "    <tr>\n",
       "      <th>10</th>\n",
       "      <td>Juan Franco</td>\n",
       "      <td>87.0</td>\n",
       "      <td>51.0</td>\n",
       "    </tr>\n",
       "    <tr>\n",
       "      <th>11</th>\n",
       "      <td>Julianna Marqui</td>\n",
       "      <td>9.0</td>\n",
       "      <td>48.0</td>\n",
       "    </tr>\n",
       "    <tr>\n",
       "      <th>12</th>\n",
       "      <td>Link Yang</td>\n",
       "      <td>15.0</td>\n",
       "      <td>26.0</td>\n",
       "    </tr>\n",
       "    <tr>\n",
       "      <th>13</th>\n",
       "      <td>Matthew Weiler</td>\n",
       "      <td>215.0</td>\n",
       "      <td>77.0</td>\n",
       "    </tr>\n",
       "    <tr>\n",
       "      <th>14</th>\n",
       "      <td>Maurice Hu</td>\n",
       "      <td>100.0</td>\n",
       "      <td>23.0</td>\n",
       "    </tr>\n",
       "    <tr>\n",
       "      <th>15</th>\n",
       "      <td>Mica Hannify</td>\n",
       "      <td>1.0</td>\n",
       "      <td>0.0</td>\n",
       "    </tr>\n",
       "    <tr>\n",
       "      <th>16</th>\n",
       "      <td>Mohammed Bekkour</td>\n",
       "      <td>19.0</td>\n",
       "      <td>3.0</td>\n",
       "    </tr>\n",
       "    <tr>\n",
       "      <th>17</th>\n",
       "      <td>Nassima Amarouche</td>\n",
       "      <td>8.0</td>\n",
       "      <td>0.0</td>\n",
       "    </tr>\n",
       "    <tr>\n",
       "      <th>18</th>\n",
       "      <td>Robert Rizzari</td>\n",
       "      <td>488.0</td>\n",
       "      <td>75.0</td>\n",
       "    </tr>\n",
       "    <tr>\n",
       "      <th>19</th>\n",
       "      <td>Samrina Lamichhane</td>\n",
       "      <td>6.0</td>\n",
       "      <td>0.0</td>\n",
       "    </tr>\n",
       "    <tr>\n",
       "      <th>20</th>\n",
       "      <td>Shuang Li</td>\n",
       "      <td>14.0</td>\n",
       "      <td>5.0</td>\n",
       "    </tr>\n",
       "    <tr>\n",
       "      <th>21</th>\n",
       "      <td>Tarang Upadhyaya</td>\n",
       "      <td>273.0</td>\n",
       "      <td>115.0</td>\n",
       "    </tr>\n",
       "    <tr>\n",
       "      <th>22</th>\n",
       "      <td>Trevor White</td>\n",
       "      <td>1.0</td>\n",
       "      <td>0.0</td>\n",
       "    </tr>\n",
       "    <tr>\n",
       "      <th>23</th>\n",
       "      <td>Victoria Onwu</td>\n",
       "      <td>40.0</td>\n",
       "      <td>64.0</td>\n",
       "    </tr>\n",
       "    <tr>\n",
       "      <th>24</th>\n",
       "      <td>Wesley Wang</td>\n",
       "      <td>41.0</td>\n",
       "      <td>37.0</td>\n",
       "    </tr>\n",
       "    <tr>\n",
       "      <th>25</th>\n",
       "      <td>Bita Bordbar</td>\n",
       "      <td>0.0</td>\n",
       "      <td>1.0</td>\n",
       "    </tr>\n",
       "  </tbody>\n",
       "</table>\n",
       "</div>"
      ],
      "text/plain": [
       "     Opportunity Owner  Num of FTA sent  Num of Real Purchase\n",
       "0      Adriana Rogozea              2.0                   7.0\n",
       "1       Casey Woodward            167.0                 108.0\n",
       "2    Christopher Ayres            290.0                 299.0\n",
       "3       Daniel Dempsey            190.0                 104.0\n",
       "4        Deepu Devadas             90.0                  30.0\n",
       "5       Giovanni Musto            110.0                  97.0\n",
       "6       Hagop Abkarian             72.0                  29.0\n",
       "7         Ibrahim Gray             16.0                   4.0\n",
       "8              Icy Niu              3.0                   1.0\n",
       "9       Isaiah Nieland              1.0                   2.0\n",
       "10         Juan Franco             87.0                  51.0\n",
       "11     Julianna Marqui              9.0                  48.0\n",
       "12           Link Yang             15.0                  26.0\n",
       "13      Matthew Weiler            215.0                  77.0\n",
       "14          Maurice Hu            100.0                  23.0\n",
       "15        Mica Hannify              1.0                   0.0\n",
       "16    Mohammed Bekkour             19.0                   3.0\n",
       "17   Nassima Amarouche              8.0                   0.0\n",
       "18      Robert Rizzari            488.0                  75.0\n",
       "19  Samrina Lamichhane              6.0                   0.0\n",
       "20           Shuang Li             14.0                   5.0\n",
       "21    Tarang Upadhyaya            273.0                 115.0\n",
       "22        Trevor White              1.0                   0.0\n",
       "23       Victoria Onwu             40.0                  64.0\n",
       "24         Wesley Wang             41.0                  37.0\n",
       "25        Bita Bordbar              0.0                   1.0"
      ]
     },
     "execution_count": 96,
     "metadata": {},
     "output_type": "execute_result"
    }
   ],
   "source": [
    "df4 = pd.concat([units1, real], axis=1).reset_index()\n",
    "df4 = df4.fillna(0)\n",
    "df4 = df4.rename(columns={\"index\":\"Opportunity Owner\",\"Opportunity Name\":\"Num of FTA sent\"})\n",
    "df4"
   ]
  },
  {
   "cell_type": "markdown",
   "metadata": {},
   "source": [
    "# Linear Regression"
   ]
  },
  {
   "cell_type": "code",
   "execution_count": 100,
   "metadata": {
    "scrolled": true
   },
   "outputs": [],
   "source": [
    "from sklearn.linear_model import LinearRegression\n",
    "from sklearn.metrics import r2_score\n",
    "X=df3.loc[:,'Num of FTA sent'] # Num of units that Free Sample Sent\n",
    "y=df3.loc[:,'Amount']\n",
    "X=np.array([X]).reshape(-1,1)"
   ]
  },
  {
   "cell_type": "code",
   "execution_count": 101,
   "metadata": {
    "scrolled": false
   },
   "outputs": [
    {
     "data": {
      "text/plain": [
       "((26, 1), (26,))"
      ]
     },
     "execution_count": 101,
     "metadata": {},
     "output_type": "execute_result"
    }
   ],
   "source": [
    "X.shape,y.shape"
   ]
  },
  {
   "cell_type": "code",
   "execution_count": 102,
   "metadata": {},
   "outputs": [],
   "source": [
    "from sklearn.model_selection import train_test_split\n",
    "X_train,X_test, y_train, y_test = train_test_split(X,y,random_state=None,shuffle=False)\n",
    "lr=LinearRegression().fit(X,y)\n",
    "y_pred=lr.predict(X)"
   ]
  },
  {
   "cell_type": "code",
   "execution_count": 104,
   "metadata": {
    "scrolled": false
   },
   "outputs": [
    {
     "data": {
      "image/png": "[encoded data removed]",
      "text/plain": [
       "<Figure size 432x288 with 1 Axes>"
      ]
     },
     "metadata": {},
     "output_type": "display_data"
    }
   ],
   "source": [
    "import matplotlib.pyplot as plt\n",
    "plt.scatter(X, y,  color='black')\n",
    "plt.plot(X, y_pred, color='blue', linewidth=3)\n",
    "\n",
    "plt.xticks(())\n",
    "plt.xlabel('# of Free Sample')\n",
    "plt.ylabel('$ of Amount')\n",
    "\n",
    "plt.yticks(())\n",
    "\n",
    "plt.show()"
   ]
  },
  {
   "cell_type": "code",
   "execution_count": 105,
   "metadata": {
    "scrolled": false
   },
   "outputs": [
    {
     "data": {
      "text/plain": [
       "array([102.76658476])"
      ]
     },
     "execution_count": 105,
     "metadata": {},
     "output_type": "execute_result"
    }
   ],
   "source": [
    "lr.coef_"
   ]
  },
  {
   "cell_type": "code",
   "execution_count": 106,
   "metadata": {
    "scrolled": true
   },
   "outputs": [
    {
     "data": {
      "text/plain": [
       "4107.457501319963"
      ]
     },
     "execution_count": 106,
     "metadata": {},
     "output_type": "execute_result"
    }
   ],
   "source": [
    "lr.intercept_"
   ]
  },
  {
   "cell_type": "code",
   "execution_count": 107,
   "metadata": {
    "scrolled": false
   },
   "outputs": [
    {
     "data": {
      "text/plain": [
       "0.44819620416181116"
      ]
     },
     "execution_count": 107,
     "metadata": {},
     "output_type": "execute_result"
    }
   ],
   "source": [
    "r2_score(y, y_pred)"
   ]
  },
  {
   "cell_type": "code",
   "execution_count": 108,
   "metadata": {},
   "outputs": [
    {
     "data": {
      "text/plain": [
       "0.6214293192543328"
      ]
     },
     "execution_count": 108,
     "metadata": {},
     "output_type": "execute_result"
    }
   ],
   "source": [
    "np.sum(np.abs(y-y_pred))/np.sum(y)"
   ]
  },
  {
   "cell_type": "code",
   "execution_count": 109,
   "metadata": {},
   "outputs": [
    {
     "data": {
      "text/plain": [
       "((26,), (26,))"
      ]
     },
     "execution_count": 109,
     "metadata": {},
     "output_type": "execute_result"
    }
   ],
   "source": [
    "y.shape,y_pred.shape"
   ]
  },
  {
   "cell_type": "code",
   "execution_count": 110,
   "metadata": {},
   "outputs": [
    {
     "data": {
      "text/plain": [
       "array([13029.45624314])"
      ]
     },
     "execution_count": 110,
     "metadata": {},
     "output_type": "execute_result"
    }
   ],
   "source": [
    "# Example of prediction\n",
    "num = 87\n",
    "num = np.array([num]).reshape(-1,1)\n",
    "y_pred0 = lr.fit(X_train, y_train).predict(num)\n",
    "y_pred0"
   ]
  },
  {
   "cell_type": "code",
   "execution_count": 27,
   "metadata": {
    "scrolled": true
   },
   "outputs": [
    {
     "data": {
      "text/html": [
       "<div>\n",
       "<style scoped>\n",
       "    .dataframe tbody tr th:only-of-type {\n",
       "        vertical-align: middle;\n",
       "    }\n",
       "\n",
       "    .dataframe tbody tr th {\n",
       "        vertical-align: top;\n",
       "    }\n",
       "\n",
       "    .dataframe thead th {\n",
       "        text-align: right;\n",
       "    }\n",
       "</style>\n",
       "<table border=\"1\" class=\"dataframe\">\n",
       "  <thead>\n",
       "    <tr style=\"text-align: right;\">\n",
       "      <th></th>\n",
       "      <th>index</th>\n",
       "      <th>Opportunity Name</th>\n",
       "      <th>Num of Real Purchase</th>\n",
       "    </tr>\n",
       "  </thead>\n",
       "  <tbody>\n",
       "    <tr>\n",
       "      <th>0</th>\n",
       "      <td>Adriana Rogozea</td>\n",
       "      <td>2.0</td>\n",
       "      <td>7.0</td>\n",
       "    </tr>\n",
       "    <tr>\n",
       "      <th>1</th>\n",
       "      <td>Casey Woodward</td>\n",
       "      <td>167.0</td>\n",
       "      <td>108.0</td>\n",
       "    </tr>\n",
       "    <tr>\n",
       "      <th>2</th>\n",
       "      <td>Christopher Ayres</td>\n",
       "      <td>290.0</td>\n",
       "      <td>299.0</td>\n",
       "    </tr>\n",
       "    <tr>\n",
       "      <th>3</th>\n",
       "      <td>Daniel Dempsey</td>\n",
       "      <td>190.0</td>\n",
       "      <td>104.0</td>\n",
       "    </tr>\n",
       "    <tr>\n",
       "      <th>4</th>\n",
       "      <td>Deepu Devadas</td>\n",
       "      <td>90.0</td>\n",
       "      <td>30.0</td>\n",
       "    </tr>\n",
       "    <tr>\n",
       "      <th>5</th>\n",
       "      <td>Giovanni Musto</td>\n",
       "      <td>110.0</td>\n",
       "      <td>97.0</td>\n",
       "    </tr>\n",
       "    <tr>\n",
       "      <th>6</th>\n",
       "      <td>Hagop Abkarian</td>\n",
       "      <td>72.0</td>\n",
       "      <td>29.0</td>\n",
       "    </tr>\n",
       "    <tr>\n",
       "      <th>7</th>\n",
       "      <td>Ibrahim Gray</td>\n",
       "      <td>16.0</td>\n",
       "      <td>4.0</td>\n",
       "    </tr>\n",
       "    <tr>\n",
       "      <th>8</th>\n",
       "      <td>Icy Niu</td>\n",
       "      <td>3.0</td>\n",
       "      <td>1.0</td>\n",
       "    </tr>\n",
       "    <tr>\n",
       "      <th>9</th>\n",
       "      <td>Isaiah Nieland</td>\n",
       "      <td>1.0</td>\n",
       "      <td>2.0</td>\n",
       "    </tr>\n",
       "    <tr>\n",
       "      <th>10</th>\n",
       "      <td>Juan Franco</td>\n",
       "      <td>87.0</td>\n",
       "      <td>51.0</td>\n",
       "    </tr>\n",
       "    <tr>\n",
       "      <th>11</th>\n",
       "      <td>Julianna Marqui</td>\n",
       "      <td>9.0</td>\n",
       "      <td>48.0</td>\n",
       "    </tr>\n",
       "    <tr>\n",
       "      <th>12</th>\n",
       "      <td>Link Yang</td>\n",
       "      <td>15.0</td>\n",
       "      <td>26.0</td>\n",
       "    </tr>\n",
       "    <tr>\n",
       "      <th>13</th>\n",
       "      <td>Matthew Weiler</td>\n",
       "      <td>215.0</td>\n",
       "      <td>77.0</td>\n",
       "    </tr>\n",
       "    <tr>\n",
       "      <th>14</th>\n",
       "      <td>Maurice Hu</td>\n",
       "      <td>100.0</td>\n",
       "      <td>23.0</td>\n",
       "    </tr>\n",
       "    <tr>\n",
       "      <th>15</th>\n",
       "      <td>Mica Hannify</td>\n",
       "      <td>1.0</td>\n",
       "      <td>0.0</td>\n",
       "    </tr>\n",
       "    <tr>\n",
       "      <th>16</th>\n",
       "      <td>Mohammed Bekkour</td>\n",
       "      <td>19.0</td>\n",
       "      <td>3.0</td>\n",
       "    </tr>\n",
       "    <tr>\n",
       "      <th>17</th>\n",
       "      <td>Nassima Amarouche</td>\n",
       "      <td>8.0</td>\n",
       "      <td>0.0</td>\n",
       "    </tr>\n",
       "    <tr>\n",
       "      <th>18</th>\n",
       "      <td>Robert Rizzari</td>\n",
       "      <td>488.0</td>\n",
       "      <td>75.0</td>\n",
       "    </tr>\n",
       "    <tr>\n",
       "      <th>19</th>\n",
       "      <td>Samrina Lamichhane</td>\n",
       "      <td>6.0</td>\n",
       "      <td>0.0</td>\n",
       "    </tr>\n",
       "    <tr>\n",
       "      <th>20</th>\n",
       "      <td>Shuang Li</td>\n",
       "      <td>14.0</td>\n",
       "      <td>5.0</td>\n",
       "    </tr>\n",
       "    <tr>\n",
       "      <th>21</th>\n",
       "      <td>Tarang Upadhyaya</td>\n",
       "      <td>273.0</td>\n",
       "      <td>115.0</td>\n",
       "    </tr>\n",
       "    <tr>\n",
       "      <th>22</th>\n",
       "      <td>Trevor White</td>\n",
       "      <td>1.0</td>\n",
       "      <td>0.0</td>\n",
       "    </tr>\n",
       "    <tr>\n",
       "      <th>23</th>\n",
       "      <td>Victoria Onwu</td>\n",
       "      <td>40.0</td>\n",
       "      <td>64.0</td>\n",
       "    </tr>\n",
       "    <tr>\n",
       "      <th>24</th>\n",
       "      <td>Wesley Wang</td>\n",
       "      <td>41.0</td>\n",
       "      <td>37.0</td>\n",
       "    </tr>\n",
       "    <tr>\n",
       "      <th>25</th>\n",
       "      <td>Bita Bordbar</td>\n",
       "      <td>0.0</td>\n",
       "      <td>1.0</td>\n",
       "    </tr>\n",
       "  </tbody>\n",
       "</table>\n",
       "</div>"
      ],
      "text/plain": [
       "                 index  Opportunity Name  Num of Real Purchase\n",
       "0      Adriana Rogozea               2.0                   7.0\n",
       "1       Casey Woodward             167.0                 108.0\n",
       "2    Christopher Ayres             290.0                 299.0\n",
       "3       Daniel Dempsey             190.0                 104.0\n",
       "4        Deepu Devadas              90.0                  30.0\n",
       "5       Giovanni Musto             110.0                  97.0\n",
       "6       Hagop Abkarian              72.0                  29.0\n",
       "7         Ibrahim Gray              16.0                   4.0\n",
       "8              Icy Niu               3.0                   1.0\n",
       "9       Isaiah Nieland               1.0                   2.0\n",
       "10         Juan Franco              87.0                  51.0\n",
       "11     Julianna Marqui               9.0                  48.0\n",
       "12           Link Yang              15.0                  26.0\n",
       "13      Matthew Weiler             215.0                  77.0\n",
       "14          Maurice Hu             100.0                  23.0\n",
       "15        Mica Hannify               1.0                   0.0\n",
       "16    Mohammed Bekkour              19.0                   3.0\n",
       "17   Nassima Amarouche               8.0                   0.0\n",
       "18      Robert Rizzari             488.0                  75.0\n",
       "19  Samrina Lamichhane               6.0                   0.0\n",
       "20           Shuang Li              14.0                   5.0\n",
       "21    Tarang Upadhyaya             273.0                 115.0\n",
       "22        Trevor White               1.0                   0.0\n",
       "23       Victoria Onwu              40.0                  64.0\n",
       "24         Wesley Wang              41.0                  37.0\n",
       "25        Bita Bordbar               0.0                   1.0"
      ]
     },
     "execution_count": 27,
     "metadata": {},
     "output_type": "execute_result"
    }
   ],
   "source": [
    "df4"
   ]
  },
  {
   "cell_type": "code",
   "execution_count": 28,
   "metadata": {},
   "outputs": [],
   "source": [
    "m=df4.loc[:,'Opportunity Name'] # Num of units that Free Sample Sent\n",
    "n=df4.loc[:,'Num of Real Purchase']\n",
    "m=np.array([X]).reshape(-1,1)"
   ]
  },
  {
   "cell_type": "code",
   "execution_count": 29,
   "metadata": {},
   "outputs": [
    {
     "data": {
      "text/plain": [
       "((26, 1), (26,))"
      ]
     },
     "execution_count": 29,
     "metadata": {},
     "output_type": "execute_result"
    }
   ],
   "source": [
    "m.shape,n.shape"
   ]
  },
  {
   "cell_type": "code",
   "execution_count": 30,
   "metadata": {
    "scrolled": true
   },
   "outputs": [
    {
     "data": {
      "image/png": "[encoded data removed]",
      "text/plain": [
       "<Figure size 432x288 with 1 Axes>"
      ]
     },
     "metadata": {
      "needs_background": "light"
     },
     "output_type": "display_data"
    }
   ],
   "source": [
    "m_train,m_test, n_train, n_test = train_test_split(m,n,random_state=None,shuffle=False)\n",
    "lr=LinearRegression().fit(m_train,n_train)\n",
    "prediction=lr.predict(m)\n",
    "\n",
    "plt.scatter(m, n,  color='black')\n",
    "plt.plot(m,prediction, color='blue', linewidth=3)\n",
    "plt.xlabel('Num of Free Sample Sent')\n",
    "plt.ylabel('Num of Real Purchase')\n",
    "plt.show()"
   ]
  },
  {
   "cell_type": "code",
   "execution_count": 31,
   "metadata": {},
   "outputs": [
    {
     "data": {
      "text/plain": [
       "array([0.35645])"
      ]
     },
     "execution_count": 31,
     "metadata": {},
     "output_type": "execute_result"
    }
   ],
   "source": [
    "lr.coef_"
   ]
  },
  {
   "cell_type": "code",
   "execution_count": 32,
   "metadata": {},
   "outputs": [
    {
     "data": {
      "text/plain": [
       "16.46340297535957"
      ]
     },
     "execution_count": 32,
     "metadata": {},
     "output_type": "execute_result"
    }
   ],
   "source": [
    "lr.intercept_"
   ]
  },
  {
   "cell_type": "markdown",
   "metadata": {},
   "source": [
    "# Decision Tree"
   ]
  },
  {
   "cell_type": "code",
   "execution_count": 111,
   "metadata": {
    "scrolled": true
   },
   "outputs": [
    {
     "data": {
      "image/png": "[encoded data removed]",
      "text/plain": [
       "<Figure size 432x288 with 1 Axes>"
      ]
     },
     "metadata": {
      "needs_background": "light"
     },
     "output_type": "display_data"
    },
    {
     "name": "stdout",
     "output_type": "stream",
     "text": [
      "The best index is 2\n"
     ]
    }
   ],
   "source": [
    "from sklearn.model_selection import train_test_split,cross_val_score\n",
    "from sklearn.tree import DecisionTreeRegressor\n",
    "k_range = range(1,100)\n",
    "cv_scores = []\n",
    "for n in k_range:\n",
    "    dtr = DecisionTreeRegressor(max_depth=n)\n",
    "    scores = cross_val_score(dtr,X_train,y_train,cv=5,scoring='neg_mean_squared_error')\n",
    "    cv_scores.append(-scores.mean())\n",
    "\n",
    "plt.plot(k_range,cv_scores)\n",
    "plt.xlabel('Max Depth')\n",
    "plt.ylabel('MSE')\n",
    "plt.show()\n",
    "val=cv_scores.index(np.min(cv_scores))+1 #树的计算是从1开始的\n",
    "print(\"The best index is\",val)"
   ]
  },
  {
   "cell_type": "code",
   "execution_count": 114,
   "metadata": {},
   "outputs": [],
   "source": [
    "X_train,X_test, y_train, y_test = train_test_split(X,y,random_state=None,shuffle=False)\n",
    "regr= DecisionTreeRegressor(max_depth=2)\n",
    "y_pred = regr.fit(X_train, y_train).predict(X)"
   ]
  },
  {
   "cell_type": "code",
   "execution_count": 115,
   "metadata": {
    "scrolled": true
   },
   "outputs": [
    {
     "data": {
      "image/png": "[encoded data removed]",
      "text/plain": [
       "<Figure size 432x288 with 1 Axes>"
      ]
     },
     "metadata": {},
     "output_type": "display_data"
    }
   ],
   "source": [
    "plt.scatter(X, y,  color='black')\n",
    "plt.scatter(X, y_pred, color='red', linewidth=3)\n",
    "\n",
    "plt.xticks(())\n",
    "plt.yticks(())\n",
    "plt.xlabel('# of Free Sample')\n",
    "plt.ylabel('$ of Amount')\n",
    "\n",
    "plt.show()"
   ]
  },
  {
   "cell_type": "code",
   "execution_count": 116,
   "metadata": {
    "scrolled": true
   },
   "outputs": [
    {
     "data": {
      "text/plain": [
       "0.4366770589066423"
      ]
     },
     "execution_count": 116,
     "metadata": {},
     "output_type": "execute_result"
    }
   ],
   "source": [
    "np.sum(np.abs(y-y_pred))/np.sum(y)"
   ]
  },
  {
   "cell_type": "code",
   "execution_count": 117,
   "metadata": {
    "scrolled": true
   },
   "outputs": [
    {
     "data": {
      "text/plain": [
       "0.6712224864511034"
      ]
     },
     "execution_count": 117,
     "metadata": {},
     "output_type": "execute_result"
    }
   ],
   "source": [
    "r2_score(y, y_pred)"
   ]
  },
  {
   "cell_type": "code",
   "execution_count": 119,
   "metadata": {},
   "outputs": [
    {
     "data": {
      "text/plain": [
       "array([7197.02625])"
      ]
     },
     "execution_count": 119,
     "metadata": {},
     "output_type": "execute_result"
    }
   ],
   "source": [
    "# Example of prediction\n",
    "num = 87\n",
    "num = np.array([num]).reshape(-1,1)\n",
    "y_pred1 = regr.fit(X_train, y_train).predict(num)\n",
    "y_pred1"
   ]
  },
  {
   "cell_type": "markdown",
   "metadata": {},
   "source": [
    "# Random Forest"
   ]
  },
  {
   "cell_type": "code",
   "execution_count": 125,
   "metadata": {},
   "outputs": [],
   "source": [
    "from sklearn.ensemble import RandomForestRegressor\n",
    "rf=RandomForestRegressor(max_depth=2,min_samples_split=3,n_estimators=1000)\n",
    "y_pred=rf.fit(X_train,y_train).predict(X)"
   ]
  },
  {
   "cell_type": "code",
   "execution_count": 126,
   "metadata": {
    "scrolled": false
   },
   "outputs": [
    {
     "data": {
      "image/png": "[encoded data removed]",
      "text/plain": [
       "<Figure size 432x288 with 1 Axes>"
      ]
     },
     "metadata": {},
     "output_type": "display_data"
    }
   ],
   "source": [
    "plt.scatter(X, y,  color='black')\n",
    "plt.scatter(X, y_pred, color='red', linewidth=3)\n",
    "\n",
    "plt.xticks(())\n",
    "plt.yticks(())\n",
    "plt.xlabel('# of Free Sample')\n",
    "plt.ylabel('$ of Net Amount')\n",
    "\n",
    "plt.show()"
   ]
  },
  {
   "cell_type": "code",
   "execution_count": 127,
   "metadata": {},
   "outputs": [
    {
     "data": {
      "text/plain": [
       "0.7059031071593607"
      ]
     },
     "execution_count": 127,
     "metadata": {},
     "output_type": "execute_result"
    }
   ],
   "source": [
    "r2_score(y, y_pred)"
   ]
  },
  {
   "cell_type": "code",
   "execution_count": 128,
   "metadata": {
    "scrolled": false
   },
   "outputs": [
    {
     "data": {
      "text/plain": [
       "0.4586921282548293"
      ]
     },
     "execution_count": 128,
     "metadata": {},
     "output_type": "execute_result"
    }
   ],
   "source": [
    "np.sum(np.abs(y-y_pred))/np.sum(y)"
   ]
  },
  {
   "cell_type": "code",
   "execution_count": 130,
   "metadata": {},
   "outputs": [
    {
     "data": {
      "text/plain": [
       "array([7958.12141104])"
      ]
     },
     "execution_count": 130,
     "metadata": {},
     "output_type": "execute_result"
    }
   ],
   "source": [
    "# Example of prediction\n",
    "num = 87\n",
    "num = np.array([num]).reshape(-1,1)\n",
    "y_pred1 = rf.fit(X_train, y_train).predict(num)\n",
    "y_pred1"
   ]
  },
  {
   "cell_type": "markdown",
   "metadata": {},
   "source": [
    "# ARIMA"
   ]
  },
  {
   "cell_type": "code",
   "execution_count": 35,
   "metadata": {
    "scrolled": false
   },
   "outputs": [
    {
     "data": {
      "text/html": [
       "<div>\n",
       "<style scoped>\n",
       "    .dataframe tbody tr th:only-of-type {\n",
       "        vertical-align: middle;\n",
       "    }\n",
       "\n",
       "    .dataframe tbody tr th {\n",
       "        vertical-align: top;\n",
       "    }\n",
       "\n",
       "    .dataframe thead th {\n",
       "        text-align: right;\n",
       "    }\n",
       "</style>\n",
       "<table border=\"1\" class=\"dataframe\">\n",
       "  <thead>\n",
       "    <tr style=\"text-align: right;\">\n",
       "      <th></th>\n",
       "      <th>Account Name</th>\n",
       "      <th>Net Amount</th>\n",
       "      <th>Amount</th>\n",
       "      <th>Opportunity Name</th>\n",
       "      <th>Related Opportunity</th>\n",
       "      <th>Opportunity Owner</th>\n",
       "      <th>Close Date</th>\n",
       "      <th>Free Trial Acquisition Age</th>\n",
       "      <th>Territory</th>\n",
       "      <th>Free Sample</th>\n",
       "    </tr>\n",
       "  </thead>\n",
       "  <tbody>\n",
       "    <tr>\n",
       "      <th>0</th>\n",
       "      <td>Harvard Medical School (HMS) - Brigham &amp; Women...</td>\n",
       "      <td>227.5</td>\n",
       "      <td>256.5</td>\n",
       "      <td>CA17005</td>\n",
       "      <td>FTA16962</td>\n",
       "      <td>Giovanni Musto</td>\n",
       "      <td>11/6/2017</td>\n",
       "      <td>-64.0</td>\n",
       "      <td>BOS</td>\n",
       "      <td>True</td>\n",
       "    </tr>\n",
       "    <tr>\n",
       "      <th>1</th>\n",
       "      <td>Boston University - School of Medicine - Depar...</td>\n",
       "      <td>260.0</td>\n",
       "      <td>289.0</td>\n",
       "      <td>CA21079</td>\n",
       "      <td>FTA16977</td>\n",
       "      <td>Hagop Abkarian</td>\n",
       "      <td>2/14/2018</td>\n",
       "      <td>NaN</td>\n",
       "      <td>BOS</td>\n",
       "      <td>True</td>\n",
       "    </tr>\n",
       "    <tr>\n",
       "      <th>2</th>\n",
       "      <td>University of Southern California (USC)</td>\n",
       "      <td>440.0</td>\n",
       "      <td>440.0</td>\n",
       "      <td>CA19060</td>\n",
       "      <td>FTA19001</td>\n",
       "      <td>Julianna Marqui</td>\n",
       "      <td>12/8/2017</td>\n",
       "      <td>-52.0</td>\n",
       "      <td>T4</td>\n",
       "      <td>True</td>\n",
       "    </tr>\n",
       "    <tr>\n",
       "      <th>3</th>\n",
       "      <td>Massachusetts Institute of Technology (MIT)</td>\n",
       "      <td>91.0</td>\n",
       "      <td>130.0</td>\n",
       "      <td>CA90188</td>\n",
       "      <td>FTA20009</td>\n",
       "      <td>Giovanni Musto</td>\n",
       "      <td>12/5/2019</td>\n",
       "      <td>NaN</td>\n",
       "      <td>BOS</td>\n",
       "      <td>True</td>\n",
       "    </tr>\n",
       "    <tr>\n",
       "      <th>4</th>\n",
       "      <td>Massachusetts Institute of Technology (MIT)</td>\n",
       "      <td>181.0</td>\n",
       "      <td>220.0</td>\n",
       "      <td>CA70731</td>\n",
       "      <td>FTA20009</td>\n",
       "      <td>Giovanni Musto</td>\n",
       "      <td>6/19/2019</td>\n",
       "      <td>NaN</td>\n",
       "      <td>BOS</td>\n",
       "      <td>True</td>\n",
       "    </tr>\n",
       "    <tr>\n",
       "      <th>...</th>\n",
       "      <td>...</td>\n",
       "      <td>...</td>\n",
       "      <td>...</td>\n",
       "      <td>...</td>\n",
       "      <td>...</td>\n",
       "      <td>...</td>\n",
       "      <td>...</td>\n",
       "      <td>...</td>\n",
       "      <td>...</td>\n",
       "      <td>...</td>\n",
       "    </tr>\n",
       "    <tr>\n",
       "      <th>1230</th>\n",
       "      <td>Boston University - School of Medicine - Benja...</td>\n",
       "      <td>90.0</td>\n",
       "      <td>90.0</td>\n",
       "      <td>FTA264</td>\n",
       "      <td>NaN</td>\n",
       "      <td>Giovanni Musto</td>\n",
       "      <td>3/31/2017</td>\n",
       "      <td>36.0</td>\n",
       "      <td>BOS</td>\n",
       "      <td>True</td>\n",
       "    </tr>\n",
       "    <tr>\n",
       "      <th>1231</th>\n",
       "      <td>Northwestern University (NWU)</td>\n",
       "      <td>220.0</td>\n",
       "      <td>220.0</td>\n",
       "      <td>CA15524</td>\n",
       "      <td>NaN</td>\n",
       "      <td>Giovanni Musto</td>\n",
       "      <td>3/23/2017</td>\n",
       "      <td>74.0</td>\n",
       "      <td>T2-A</td>\n",
       "      <td>True</td>\n",
       "    </tr>\n",
       "    <tr>\n",
       "      <th>1232</th>\n",
       "      <td>Boston University - School of Medicine - Benja...</td>\n",
       "      <td>200.0</td>\n",
       "      <td>200.0</td>\n",
       "      <td>FTA258</td>\n",
       "      <td>NaN</td>\n",
       "      <td>Giovanni Musto</td>\n",
       "      <td>3/12/2017</td>\n",
       "      <td>36.0</td>\n",
       "      <td>BOS</td>\n",
       "      <td>True</td>\n",
       "    </tr>\n",
       "    <tr>\n",
       "      <th>1233</th>\n",
       "      <td>University of Illinois at Chicago (UIC)</td>\n",
       "      <td>130.0</td>\n",
       "      <td>130.0</td>\n",
       "      <td>FTA257</td>\n",
       "      <td>NaN</td>\n",
       "      <td>Giovanni Musto</td>\n",
       "      <td>3/7/2017</td>\n",
       "      <td>36.0</td>\n",
       "      <td>T2-A</td>\n",
       "      <td>True</td>\n",
       "    </tr>\n",
       "    <tr>\n",
       "      <th>1234</th>\n",
       "      <td>University of Miami</td>\n",
       "      <td>327.0</td>\n",
       "      <td>327.0</td>\n",
       "      <td>CA15327</td>\n",
       "      <td>NaN</td>\n",
       "      <td>Giovanni Musto</td>\n",
       "      <td>2/7/2017</td>\n",
       "      <td>78.0</td>\n",
       "      <td>T2-B</td>\n",
       "      <td>True</td>\n",
       "    </tr>\n",
       "  </tbody>\n",
       "</table>\n",
       "<p>1235 rows × 10 columns</p>\n",
       "</div>"
      ],
      "text/plain": [
       "                                           Account Name  Net Amount  Amount  \\\n",
       "0     Harvard Medical School (HMS) - Brigham & Women...       227.5   256.5   \n",
       "1     Boston University - School of Medicine - Depar...       260.0   289.0   \n",
       "2               University of Southern California (USC)       440.0   440.0   \n",
       "3           Massachusetts Institute of Technology (MIT)        91.0   130.0   \n",
       "4           Massachusetts Institute of Technology (MIT)       181.0   220.0   \n",
       "...                                                 ...         ...     ...   \n",
       "1230  Boston University - School of Medicine - Benja...        90.0    90.0   \n",
       "1231                      Northwestern University (NWU)       220.0   220.0   \n",
       "1232  Boston University - School of Medicine - Benja...       200.0   200.0   \n",
       "1233            University of Illinois at Chicago (UIC)       130.0   130.0   \n",
       "1234                                University of Miami       327.0   327.0   \n",
       "\n",
       "     Opportunity Name Related Opportunity Opportunity Owner Close Date  \\\n",
       "0             CA17005            FTA16962    Giovanni Musto  11/6/2017   \n",
       "1             CA21079            FTA16977    Hagop Abkarian  2/14/2018   \n",
       "2             CA19060            FTA19001   Julianna Marqui  12/8/2017   \n",
       "3             CA90188            FTA20009    Giovanni Musto  12/5/2019   \n",
       "4             CA70731            FTA20009    Giovanni Musto  6/19/2019   \n",
       "...               ...                 ...               ...        ...   \n",
       "1230           FTA264                 NaN    Giovanni Musto  3/31/2017   \n",
       "1231          CA15524                 NaN    Giovanni Musto  3/23/2017   \n",
       "1232           FTA258                 NaN    Giovanni Musto  3/12/2017   \n",
       "1233           FTA257                 NaN    Giovanni Musto   3/7/2017   \n",
       "1234          CA15327                 NaN    Giovanni Musto   2/7/2017   \n",
       "\n",
       "      Free Trial Acquisition Age Territory Free Sample  \n",
       "0                          -64.0       BOS        True  \n",
       "1                            NaN       BOS        True  \n",
       "2                          -52.0        T4        True  \n",
       "3                            NaN       BOS        True  \n",
       "4                            NaN       BOS        True  \n",
       "...                          ...       ...         ...  \n",
       "1230                        36.0       BOS        True  \n",
       "1231                        74.0      T2-A        True  \n",
       "1232                        36.0       BOS        True  \n",
       "1233                        36.0      T2-A        True  \n",
       "1234                        78.0      T2-B        True  \n",
       "\n",
       "[1235 rows x 10 columns]"
      ]
     },
     "execution_count": 35,
     "metadata": {},
     "output_type": "execute_result"
    }
   ],
   "source": [
    "df1"
   ]
  },
  {
   "cell_type": "code",
   "execution_count": 36,
   "metadata": {
    "scrolled": true
   },
   "outputs": [
    {
     "name": "stdout",
     "output_type": "stream",
     "text": [
      "<class 'pandas.core.frame.DataFrame'>\n",
      "RangeIndex: 1235 entries, 0 to 1234\n",
      "Data columns (total 2 columns):\n",
      " #   Column      Non-Null Count  Dtype  \n",
      "---  ------      --------------  -----  \n",
      " 0   Close Date  1235 non-null   object \n",
      " 1   Amount      1235 non-null   float64\n",
      "dtypes: float64(1), object(1)\n",
      "memory usage: 19.4+ KB\n"
     ]
    }
   ],
   "source": [
    "time_series = df1[['Close Date','Amount']]\n",
    "time_series.info() # Amount has to be stationary"
   ]
  },
  {
   "cell_type": "code",
   "execution_count": 37,
   "metadata": {
    "scrolled": true
   },
   "outputs": [
    {
     "name": "stdout",
     "output_type": "stream",
     "text": [
      "<class 'pandas.core.frame.DataFrame'>\n",
      "RangeIndex: 1235 entries, 0 to 1234\n",
      "Data columns (total 2 columns):\n",
      " #   Column      Non-Null Count  Dtype         \n",
      "---  ------      --------------  -----         \n",
      " 0   Close Date  1235 non-null   datetime64[ns]\n",
      " 1   Amount      1235 non-null   float64       \n",
      "dtypes: datetime64[ns](1), float64(1)\n",
      "memory usage: 19.4 KB\n"
     ]
    },
    {
     "name": "stderr",
     "output_type": "stream",
     "text": [
      "/opt/anaconda3/lib/python3.7/site-packages/ipykernel_launcher.py:1: SettingWithCopyWarning: \n",
      "A value is trying to be set on a copy of a slice from a DataFrame.\n",
      "Try using .loc[row_indexer,col_indexer] = value instead\n",
      "\n",
      "See the caveats in the documentation: https://pandas.pydata.org/pandas-docs/stable/user_guide/indexing.html#returning-a-view-versus-a-copy\n",
      "  \"\"\"Entry point for launching an IPython kernel.\n"
     ]
    }
   ],
   "source": [
    "time_series['Close Date'] = pd.to_datetime(time_series['Close Date'])\n",
    "time_series.info()"
   ]
  },
  {
   "cell_type": "code",
   "execution_count": 38,
   "metadata": {
    "scrolled": true
   },
   "outputs": [
    {
     "data": {
      "text/html": [
       "<table class=\"simpletable\">\n",
       "<caption>ARIMA Model Results</caption>\n",
       "<tr>\n",
       "  <th>Dep. Variable:</th>     <td>D.Amount</td>     <th>  No. Observations:  </th>   <td>1234</td>   \n",
       "</tr>\n",
       "<tr>\n",
       "  <th>Model:</th>          <td>ARIMA(2, 1, 1)</td>  <th>  Log Likelihood     </th> <td>-8529.496</td>\n",
       "</tr>\n",
       "<tr>\n",
       "  <th>Method:</th>             <td>css-mle</td>     <th>  S.D. of innovations</th>  <td>242.342</td> \n",
       "</tr>\n",
       "<tr>\n",
       "  <th>Date:</th>          <td>Thu, 30 Jul 2020</td> <th>  AIC                </th> <td>17068.991</td>\n",
       "</tr>\n",
       "<tr>\n",
       "  <th>Time:</th>              <td>19:47:41</td>     <th>  BIC                </th> <td>17094.581</td>\n",
       "</tr>\n",
       "<tr>\n",
       "  <th>Sample:</th>                <td>1</td>        <th>  HQIC               </th> <td>17078.617</td>\n",
       "</tr>\n",
       "<tr>\n",
       "  <th></th>                       <td> </td>        <th>                     </th>     <td> </td>    \n",
       "</tr>\n",
       "</table>\n",
       "<table class=\"simpletable\">\n",
       "<tr>\n",
       "         <td></td>           <th>coef</th>     <th>std err</th>      <th>z</th>      <th>P>|z|</th>  <th>[0.025</th>    <th>0.975]</th>  \n",
       "</tr>\n",
       "<tr>\n",
       "  <th>const</th>          <td>   -0.0153</td> <td>    0.022</td> <td>   -0.697</td> <td> 0.486</td> <td>   -0.058</td> <td>    0.028</td>\n",
       "</tr>\n",
       "<tr>\n",
       "  <th>ar.L1.D.Amount</th> <td>    0.0849</td> <td>    0.028</td> <td>    2.984</td> <td> 0.003</td> <td>    0.029</td> <td>    0.141</td>\n",
       "</tr>\n",
       "<tr>\n",
       "  <th>ar.L2.D.Amount</th> <td>    0.0354</td> <td>    0.028</td> <td>    1.245</td> <td> 0.213</td> <td>   -0.020</td> <td>    0.091</td>\n",
       "</tr>\n",
       "<tr>\n",
       "  <th>ma.L1.D.Amount</th> <td>   -1.0000</td> <td>    0.002</td> <td> -445.992</td> <td> 0.000</td> <td>   -1.004</td> <td>   -0.996</td>\n",
       "</tr>\n",
       "</table>\n",
       "<table class=\"simpletable\">\n",
       "<caption>Roots</caption>\n",
       "<tr>\n",
       "    <td></td>   <th>            Real</th>  <th>         Imaginary</th> <th>         Modulus</th>  <th>        Frequency</th>\n",
       "</tr>\n",
       "<tr>\n",
       "  <th>AR.1</th> <td>           4.2484</td> <td>          +0.0000j</td> <td>           4.2484</td> <td>           0.0000</td>\n",
       "</tr>\n",
       "<tr>\n",
       "  <th>AR.2</th> <td>          -6.6447</td> <td>          +0.0000j</td> <td>           6.6447</td> <td>           0.5000</td>\n",
       "</tr>\n",
       "<tr>\n",
       "  <th>MA.1</th> <td>           1.0000</td> <td>          +0.0000j</td> <td>           1.0000</td> <td>           0.0000</td>\n",
       "</tr>\n",
       "</table>"
      ],
      "text/plain": [
       "<class 'statsmodels.iolib.summary.Summary'>\n",
       "\"\"\"\n",
       "                             ARIMA Model Results                              \n",
       "==============================================================================\n",
       "Dep. Variable:               D.Amount   No. Observations:                 1234\n",
       "Model:                 ARIMA(2, 1, 1)   Log Likelihood               -8529.496\n",
       "Method:                       css-mle   S.D. of innovations            242.342\n",
       "Date:                Thu, 30 Jul 2020   AIC                          17068.991\n",
       "Time:                        19:47:41   BIC                          17094.581\n",
       "Sample:                             1   HQIC                         17078.617\n",
       "                                                                              \n",
       "==================================================================================\n",
       "                     coef    std err          z      P>|z|      [0.025      0.975]\n",
       "----------------------------------------------------------------------------------\n",
       "const             -0.0153      0.022     -0.697      0.486      -0.058       0.028\n",
       "ar.L1.D.Amount     0.0849      0.028      2.984      0.003       0.029       0.141\n",
       "ar.L2.D.Amount     0.0354      0.028      1.245      0.213      -0.020       0.091\n",
       "ma.L1.D.Amount    -1.0000      0.002   -445.992      0.000      -1.004      -0.996\n",
       "                                    Roots                                    \n",
       "=============================================================================\n",
       "                  Real          Imaginary           Modulus         Frequency\n",
       "-----------------------------------------------------------------------------\n",
       "AR.1            4.2484           +0.0000j            4.2484            0.0000\n",
       "AR.2           -6.6447           +0.0000j            6.6447            0.5000\n",
       "MA.1            1.0000           +0.0000j            1.0000            0.0000\n",
       "-----------------------------------------------------------------------------\n",
       "\"\"\""
      ]
     },
     "execution_count": 38,
     "metadata": {},
     "output_type": "execute_result"
    }
   ],
   "source": [
    "from statsmodels.tsa.arima_model import ARIMA\n",
    "\n",
    "model = ARIMA(time_series.Amount,order=(2,1,1))\n",
    "fit = model.fit(disp=0)\n",
    "fit.summary()"
   ]
  },
  {
   "cell_type": "code",
   "execution_count": 39,
   "metadata": {
    "scrolled": true
   },
   "outputs": [
    {
     "data": {
      "text/plain": [
       "1235   -56.62594\n",
       "dtype: float64"
      ]
     },
     "execution_count": 39,
     "metadata": {},
     "output_type": "execute_result"
    }
   ],
   "source": [
    "fit.predict(1235)"
   ]
  },
  {
   "cell_type": "code",
   "execution_count": null,
   "metadata": {},
   "outputs": [],
   "source": []
  },
  {
   "cell_type": "code",
   "execution_count": null,
   "metadata": {},
   "outputs": [],
   "source": []
  }
 ],
 "metadata": {
  "kernelspec": {
   "display_name": "Python 3",
   "language": "python",
   "name": "python3"
  },
  "language_info": {
   "codemirror_mode": {
    "name": "ipython",
    "version": 3
   },
   "file_extension": ".py",
   "mimetype": "text/x-python",
   "name": "python",
   "nbconvert_exporter": "python",
   "pygments_lexer": "ipython3",
   "version": "3.7.6"
  }
 },
 "nbformat": 4,
 "nbformat_minor": 4
}
